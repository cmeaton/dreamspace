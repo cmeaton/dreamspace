{
 "cells": [
  {
   "cell_type": "code",
   "execution_count": 3,
   "metadata": {},
   "outputs": [
    {
     "name": "stderr",
     "output_type": "stream",
     "text": [
      "[nltk_data] Downloading package punkt to /Users/asi/nltk_data...\n",
      "[nltk_data]   Package punkt is already up-to-date!\n",
      "[nltk_data] Downloading package wordnet to /Users/asi/nltk_data...\n",
      "[nltk_data]   Package wordnet is already up-to-date!\n",
      "[nltk_data] Downloading package averaged_perceptron_tagger to\n",
      "[nltk_data]     /Users/asi/nltk_data...\n",
      "[nltk_data]   Package averaged_perceptron_tagger is already up-to-\n",
      "[nltk_data]       date!\n"
     ]
    }
   ],
   "source": [
    "import pandas as pd\n",
    "import numpy as np\n",
    "import re\n",
    "import gensim\n",
    "from gensim import corpora, models\n",
    "from datetime import datetime\n",
    "import matplotlib.pyplot as plt\n",
    "\n",
    "import nltk\n",
    "from nltk import pos_tag\n",
    "from nltk.corpus import stopwords, wordnet\n",
    "from nltk.chunk import conlltags2tree, tree2conlltags, ne_chunk\n",
    "from nltk.tokenize import word_tokenize\n",
    "from nltk.stem.wordnet import WordNetLemmatizer\n",
    "from nltk.stem.snowball import SnowballStemmer\n",
    "\n",
    "from sklearn.feature_extraction.text import TfidfVectorizer\n",
    "from sklearn.metrics.pairwise import cosine_similarity\n",
    "\n",
    "from wordcloud import WordCloud\n",
    "\n",
    "\n",
    "nltk.download('punkt')\n",
    "nltk.download('wordnet')\n",
    "nltk.download('averaged_perceptron_tagger')\n",
    "\n",
    "dream_path = \"dreams/1_05_02_2020.txt\"\n",
    "with open(dream_path, \"r\") as file:\n",
    "    dream = file.read().replace('\\n', '')"
   ]
  },
  {
   "cell_type": "code",
   "execution_count": 4,
   "metadata": {
    "scrolled": true
   },
   "outputs": [
    {
     "data": {
      "text/plain": [
       "'I dreamt that I was floating down a river, grey with glacial silt, through a beautiful mountain valley, with some fairly uninhabited farm land around. It was fun, like recreational tubing. I was with some of my family members and I think Joe Rogan. We floated by a peaceful looking fawn foraging in the brush. shortly after, wolves ran out from the fields. We were all scared they would hurt us and they looked mean. We picked up rocks and to throw at the wolves. Fortunately, we realized the wolves wouldnt come into the water, so we were safe. However, we noticed dogs from a nearby ranch were swimming down the river to hurt us. My aunt had a baseball bat and she gave it to me and I hit and attacked the dogs.'"
      ]
     },
     "execution_count": 4,
     "metadata": {},
     "output_type": "execute_result"
    }
   ],
   "source": [
    "dream"
   ]
  },
  {
   "cell_type": "markdown",
   "metadata": {},
   "source": [
    "### initiate dream_dict"
   ]
  },
  {
   "cell_type": "code",
   "execution_count": 5,
   "metadata": {},
   "outputs": [],
   "source": [
    "### dream data will be stored in dream_dict\n",
    "def initiate_dream_dict(path):\n",
    "    \n",
    "    dream_path = path\n",
    "    with open(dream_path, \"r\") as file:\n",
    "        dream = file.read().replace('\\n', '')\n",
    "    date = datetime.today().strftime('%Y-%m-%d')\n",
    "    dream_dict = {}\n",
    "    dream_dict['date'] = date\n",
    "    dream_dict['dream_original'] = dream\n",
    "    \n",
    "    return dream_dict\n",
    "\n",
    "dream_dict = initiate_dream_dict(\"dreams/1_05_02_2020.txt\")"
   ]
  },
  {
   "cell_type": "code",
   "execution_count": 6,
   "metadata": {
    "scrolled": true
   },
   "outputs": [
    {
     "data": {
      "text/plain": [
       "{'date': '2020-07-01',\n",
       " 'dream_original': 'I dreamt that I was floating down a river, grey with glacial silt, through a beautiful mountain valley, with some fairly uninhabited farm land around. It was fun, like recreational tubing. I was with some of my family members and I think Joe Rogan. We floated by a peaceful looking fawn foraging in the brush. shortly after, wolves ran out from the fields. We were all scared they would hurt us and they looked mean. We picked up rocks and to throw at the wolves. Fortunately, we realized the wolves wouldnt come into the water, so we were safe. However, we noticed dogs from a nearby ranch were swimming down the river to hurt us. My aunt had a baseball bat and she gave it to me and I hit and attacked the dogs.'}"
      ]
     },
     "execution_count": 6,
     "metadata": {},
     "output_type": "execute_result"
    }
   ],
   "source": [
    "dream_dict"
   ]
  },
  {
   "cell_type": "markdown",
   "metadata": {},
   "source": [
    "### text preprocessing"
   ]
  },
  {
   "cell_type": "code",
   "execution_count": 7,
   "metadata": {},
   "outputs": [],
   "source": [
    "def preprocess_text(text):\n",
    "    '''This function takes in a list of strings and performs a variety of text preprocessing functions.'''\n",
    "\n",
    "    text = text.split(' ')\n",
    "    # remove punctuatiom\n",
    "    text = [re.sub(r'[^\\w\\s]', '', x) for x in text]\n",
    "    # lower case\n",
    "#     text = [x.lower() for x in text]\n",
    "    # remove numbers\n",
    "    text = [re.sub(r'\\d+', '', x) for x in text]\n",
    "    # remove newlines '/n'\n",
    "    text = [re.sub('\\s+', ' ', x) for x in text]\n",
    "    # remove non-ASCII characters\n",
    "    text = [re.sub(r'[^\\x00-\\x7f]',r' ',x) for x in text]\n",
    "    # remove underscores\n",
    "    text = [re.sub(r'[_]', '', x) for x in text]\n",
    "\n",
    "    return text\n",
    "\n",
    "def remove_stopwords(text):\n",
    "\n",
    "    stop_words = stopwords.words('english')\n",
    "    new_stop_words = ['dream', 'dreamed', 'dreamt']\n",
    "    stop_words.extend(new_stop_words)\n",
    "\n",
    "    trimmed_words = []\n",
    "    for i in text:\n",
    "        if i not in stop_words:\n",
    "            trimmed_words.append(i)\n",
    "\n",
    "    return trimmed_words\n",
    "\n",
    "\n",
    "def get_entities(text):\n",
    "    \n",
    "    sentence = ' '.join(text)\n",
    "    output = tree2conlltags(ne_chunk(pos_tag(word_tokenize(sentence))))\n",
    "    df = pd.DataFrame(output, columns=['word', 'pos', 'entity'])\n",
    "    \n",
    "    return df\n",
    "\n",
    "def stem_words(df):\n",
    "\n",
    "    stemmed_text = []\n",
    "    stemmer = SnowballStemmer(\"english\")\n",
    "    stemmed_word = stemmer.stem(df.word)\n",
    "\n",
    "    return stemmed_word\n",
    "\n",
    "def process(dream_dict):\n",
    "\n",
    "    dream = dream_dict['dream_original']\n",
    "    clean_dream = remove_stopwords(preprocess_text(dream))\n",
    "    df = get_entities(clean_dream)\n",
    "    df['stemmed_words'] = df.apply(stem_words, axis=1)\n",
    "    dream_dict['dream_cleaned_as_df'] = df\n",
    "    \n",
    "    return dream_dict\n",
    "\n",
    "dream_dict = process(dream_dict)"
   ]
  },
  {
   "cell_type": "code",
   "execution_count": 8,
   "metadata": {},
   "outputs": [
    {
     "data": {
      "text/plain": [
       "{'date': '2020-07-01',\n",
       " 'dream_original': 'I dreamt that I was floating down a river, grey with glacial silt, through a beautiful mountain valley, with some fairly uninhabited farm land around. It was fun, like recreational tubing. I was with some of my family members and I think Joe Rogan. We floated by a peaceful looking fawn foraging in the brush. shortly after, wolves ran out from the fields. We were all scared they would hurt us and they looked mean. We picked up rocks and to throw at the wolves. Fortunately, we realized the wolves wouldnt come into the water, so we were safe. However, we noticed dogs from a nearby ranch were swimming down the river to hurt us. My aunt had a baseball bat and she gave it to me and I hit and attacked the dogs.',\n",
       " 'dream_cleaned_as_df':         word  pos entity stemmed_words\n",
       " 0          I  PRP      O             i\n",
       " 1          I  PRP      O             i\n",
       " 2   floating  VBG      O         float\n",
       " 3      river   NN      O         river\n",
       " 4       grey  VBP      O          grey\n",
       " ..       ...  ...    ...           ...\n",
       " 70      gave  VBD      O          gave\n",
       " 71         I  PRP      O             i\n",
       " 72       hit  VBP      O           hit\n",
       " 73  attacked   JJ      O        attack\n",
       " 74      dogs  NNS      O           dog\n",
       " \n",
       " [75 rows x 4 columns]}"
      ]
     },
     "execution_count": 8,
     "metadata": {},
     "output_type": "execute_result"
    }
   ],
   "source": [
    "dream_dict"
   ]
  },
  {
   "cell_type": "markdown",
   "metadata": {},
   "source": [
    "### Finding People\n",
    "- Defining the people in your dream may improve understanding\n",
    "- Words could appear on screen as buttons"
   ]
  },
  {
   "cell_type": "code",
   "execution_count": 9,
   "metadata": {},
   "outputs": [
    {
     "name": "stdout",
     "output_type": "stream",
     "text": [
      "These people were in your dream, are they important to you in any way?\n",
      "['Joe', 'Rogan', 'aunt']\n",
      "If there were other people in your dream that were not found, enter them here: \n"
     ]
    }
   ],
   "source": [
    "def find_people(dream_dict):\n",
    "    \n",
    "    family_list = [\n",
    "        'mom',\n",
    "        'dad',\n",
    "        'mother',\n",
    "        'father',\n",
    "        'brother',\n",
    "        'sister',\n",
    "        'grandfather',\n",
    "        'grandmother',\n",
    "        'grandpa',\n",
    "        'grandma',\n",
    "        'cousin',\n",
    "        'aunt',\n",
    "        'uncle',\n",
    "        'auntie'\n",
    "    ]\n",
    "    \n",
    "    df = dream_dict['dream_cleaned_as_df']\n",
    "    people = []\n",
    "    \n",
    "    for index, row in df.iterrows():\n",
    "\n",
    "        if row.entity == 'I-PERSON' or row.entity == 'B-PERSON':\n",
    "            people.append(row.word)\n",
    "        if row.word in family_list:\n",
    "            people.append(row.word)\n",
    "    \n",
    "    if people:\n",
    "        print('These people were in your dream, are they important to you in any way?')\n",
    "        print([x for x in people if x])\n",
    "        other_people = (input('If there were other people in your dream that were not found, enter them here: '))\n",
    "        if other_people != '':\n",
    "            people.append(other_people)\n",
    "    else:\n",
    "        other_people = (input('If there were people in your dream that were not found, enter them here: '))\n",
    "        if other_people != '':\n",
    "            people.append(other_people)\n",
    "\n",
    "    dream_dict['important_people'] = people\n",
    "    \n",
    "    return dream_dict\n",
    "\n",
    "dream_dict = find_people(dream_dict)"
   ]
  },
  {
   "cell_type": "markdown",
   "metadata": {},
   "source": [
    "### Processing nouns\n",
    "- Nouns may describe important *symbols* in the dream.\n",
    "- Words could appear on screen as buttons"
   ]
  },
  {
   "cell_type": "code",
   "execution_count": 10,
   "metadata": {},
   "outputs": [
    {
     "name": "stdout",
     "output_type": "stream",
     "text": [
      "Do any of these things stand out to you as important?\n",
      "{'water', 'river', 'dogs', 'baseball', 'wolves', 'farm', 'members', 'silt', 'aunt', 'brush', 'mountain', 'land', 'fields', 'mean', 'bat', 'rocks', 'tubing', 'family', 'fawn'}\n",
      "If so, which ones? Pick three: \n",
      "\n",
      "What do these things mean to you?\n"
     ]
    }
   ],
   "source": [
    "def find_nouns(dream_dict):\n",
    "    \n",
    "    df = dream_dict['dream_cleaned_as_df']\n",
    "    nouns = df[df.pos == 'NN'].word.to_list()\n",
    "    nouns_ = df[df.pos == 'NNS'].word.to_list()\n",
    "    nouns = nouns + nouns_\n",
    "    nouns = set(nouns)\n",
    "    print('Do any of these things stand out to you as important?')\n",
    "    print(nouns)\n",
    "    important_nouns = input('If so, which ones? Pick three: \\n')\n",
    "    important_nouns = important_nouns.split(',')\n",
    "    print('What do these things mean to you?')\n",
    "    dream_dict['important_nouns'] = important_nouns\n",
    "    \n",
    "    return dream_dict\n",
    "\n",
    "dream_dict = find_nouns(dream_dict)"
   ]
  },
  {
   "cell_type": "markdown",
   "metadata": {},
   "source": [
    "### Processing verbs:\n",
    "- Verbs might describe the main events or calls to action in the dream\n",
    "- - Words could appear on screen as buttons"
   ]
  },
  {
   "cell_type": "code",
   "execution_count": 11,
   "metadata": {},
   "outputs": [
    {
     "name": "stdout",
     "output_type": "stream",
     "text": [
      "{'picked', 'hurt', 'foraging', 'scared', 'hit', 'realized', 'valley', 'floating', 'wouldnt', 'looking', 'think', 'gave', 'swimming', 'grey', 'floated', 'throw'}\n",
      "Do any of these actions stand out to you as important?\n",
      " If so, which ones? Pick three \n",
      "\n",
      "Does these actions have any significance to you?\n"
     ]
    }
   ],
   "source": [
    "def find_verbs(dream_dict):\n",
    "\n",
    "    df = dream_dict['dream_cleaned_as_df']\n",
    "    verbs = df[df.pos == 'VBD'].word.to_list()\n",
    "    verbs_ = df[df.pos == 'VBP'].word.to_list()\n",
    "    verbs__ = df[df.pos == 'VBG'].word.to_list()\n",
    "    verbs___ = df[df.pos == 'VBN'].word.to_list()\n",
    "    verbs = verbs + verbs_ + verbs__ + verbs___\n",
    "    verbs = set(verbs)\n",
    "\n",
    "    print(verbs)\n",
    "    important_verbs = input('Do any of these actions stand out to you as important?\\n If so, which ones? Pick three \\n')\n",
    "    important_verbs = important_verbs.split(',')\n",
    "    print(f'Does these actions have any significance to you?')\n",
    "    dream_dict['important_verbs'] = important_verbs \n",
    "    \n",
    "    return dream_dict\n",
    "\n",
    "dream_dict = find_verbs(dream_dict)"
   ]
  },
  {
   "cell_type": "markdown",
   "metadata": {},
   "source": [
    "### Processing advectives: \n",
    "- Adjectives might capture the *feeling* of the dream.\n",
    "- Words could appear on screen as buttons"
   ]
  },
  {
   "cell_type": "code",
   "execution_count": 12,
   "metadata": {
    "scrolled": false
   },
   "outputs": [
    {
     "name": "stdout",
     "output_type": "stream",
     "text": [
      "These words might describe the feeling of your dream, do any stand out?\n",
      "{'come', 'noticed', 'recreational', 'glacial', 'safe', 'ranch', 'looked', 'peaceful', 'attacked', 'beautiful', 'uninhabited', 'ran'}\n",
      "If so, which ones? Pick three: \n"
     ]
    }
   ],
   "source": [
    "def find_adjectives(dream_dict):\n",
    "    \n",
    "    df = dream_dict['dream_cleaned_as_df']\n",
    "    adjectives = df[df.pos == 'JJ'].word.to_list()\n",
    "    adjectives = set(adjectives)\n",
    "\n",
    "    print('These words might describe the feeling of your dream, do any stand out?')\n",
    "    print(set(adjectives))\n",
    "    important_adjectives = input('If so, which ones? Pick three: ')\n",
    "    important_adjectives = important_adjectives.split(',')\n",
    "    dream_dict['important_adjectives'] = important_adjectives\n",
    "    \n",
    "    return dream_dict\n",
    "\n",
    "dream_dict = find_adjectives(dream_dict)"
   ]
  },
  {
   "cell_type": "code",
   "execution_count": 22,
   "metadata": {},
   "outputs": [],
   "source": [
    "def important_words(dream_dict):\n",
    "    ip_ = dream_dict['important_people']\n",
    "    in_ = dream_dict['important_nouns']\n",
    "    iv_ = dream_dict['important_verbs']\n",
    "    ia_ = dream_dict['important_adjectives']\n",
    "    important_words = ip_ + in_ + iv_ + ia_ \n",
    "    dream_dict['important_words'] = important_words\n",
    "    \n",
    "    return dream_dict\n",
    "\n",
    "dream_dict = important_words(dream_dict)\n"
   ]
  },
  {
   "cell_type": "markdown",
   "metadata": {},
   "source": [
    "### dream_dictionary for 1 dream"
   ]
  },
  {
   "cell_type": "code",
   "execution_count": 23,
   "metadata": {
    "scrolled": true
   },
   "outputs": [
    {
     "data": {
      "text/plain": [
       "{'date': '2020-07-01',\n",
       " 'dream_original': 'I was in the reddish brown desert of Utah or Colorado on a hill side with large rocks everywhere. It was very crowded and appeard to be a mining operation. Below, an impressive array of dynamite was set off the the explosion was orderly, loud, and exciting. Shortly after, a rock slide started. It started below me and I watched from safety. It was very large and many huge rocks fell. It looked like people were getting injured. As I noticed that, I looked up and saw the rock slide starting above me. I hid under the steep face of a small cliff and was protected. Every once in a while I would look up, only to have a massive rock fly right by my head and I would duck again. This went on for some time until someone shouted the rocks had stopped. They pointed out a road to the top of the hill and we climbed it to safety. We had to run but I was worried about a calf injury I had in real life, but it was fine. At the top, there were many people and well organized ultramarathon appeard to be happening. I was invited to join. While I hesitated due to my injury and the frightening situation, not knowing if it was safe or not, I joined for the down hill portion. It was great fun. There was a river crossing at the bottom over loose logs. At one point in the middle, there was a log that would only support 2 people but I was with hannah and sadie. I volunteered to have them cross safely and I would swim. I swam until the next log where I climbed to safety with great difficulty.',\n",
       " 'dream_cleaned_as_df':            word  pos    entity stemmed_words\n",
       " 0             I  PRP         O             i\n",
       " 1       reddish  VBP         O       reddish\n",
       " 2         brown   JJ         O         brown\n",
       " 3        desert   NN         O        desert\n",
       " 4          Utah  NNP  B-PERSON          utah\n",
       " ..          ...  ...       ...           ...\n",
       " 154           I  PRP         O             i\n",
       " 155     climbed  VBD         O         climb\n",
       " 156      safety   NN         O        safeti\n",
       " 157       great   JJ         O         great\n",
       " 158  difficulty   NN         O    difficulti\n",
       " \n",
       " [159 rows x 4 columns],\n",
       " 'important_people': ['Utah', 'Colorado'],\n",
       " 'important_nouns': [''],\n",
       " 'important_verbs': [''],\n",
       " 'important_adjectives': [''],\n",
       " 'important_words': ['Utah', 'Colorado', '', '', '']}"
      ]
     },
     "execution_count": 23,
     "metadata": {},
     "output_type": "execute_result"
    }
   ],
   "source": [
    "dream_dict"
   ]
  },
  {
   "cell_type": "markdown",
   "metadata": {},
   "source": [
    "### Create corpus from dream directory"
   ]
  },
  {
   "cell_type": "code",
   "execution_count": 68,
   "metadata": {
    "scrolled": true
   },
   "outputs": [
    {
     "name": "stdout",
     "output_type": "stream",
     "text": [
      "I was running away from something that I do not remember, only knowing that I was in danger. I was hitch hiking and got a ride from a man in an old truck. We drove for a long time until we got to a fork in the road. I asked him if this is where the chimera zone was, pointing to the steep hill of a road straight through the intersection. He said yes and with fear, told me that I shouldnt go in there because it was very dangerous. No one who went in came out he said. I knew this and was okay with it, for it was preferred over being caught by the group chasing me. I got out and ran across the road and climbed the hill to get in. It didn't look steep, but the road was so steep that I had to climb by grabbing the pushes as handholds on the side. When I climbed to the top, the road was so steep and the decline on the other side was so steep that I was able to straddle the top. I sat at the top with legs over both sides, took a final look at he concerned man who helped me, and then swung my legs over into the dark, heavily vegetated chimera zone. It was like a rainforest and I saw a flower that was half white and half red, with the colors splitting perfectly down the middle.\n",
      "If there were people in your dream that were not found, enter them here: \n",
      "Do any of these things stand out to you as important?\n",
      "{'sides', 'hill', 'legs', 'steep', 'rainforest', 'chimera', 'time', 'intersection', 'group', 'one', 'man', 'truck', 'caught', 'colors', 'handholds', 'road', 'zone', 'fear', 'look', 'side', 'decline', 'top', 'something', 'half', 'pushes'}\n",
      "If so, which ones? Pick three: \n",
      "\n",
      "What do these things mean to you?\n",
      "{'straight', 'got', 'vegetated', 'saw', 'hitch', 'helped', 'remember', 'said', 'asked', 'go', 'sat', 'came', 'climb', 'hiking', 'danger', 'climbed', 'pointing', 'knowing', 'splitting', 'chasing', 'went', 'drove', 'running', 'grabbing', 'knew', 'look', 'shouldnt', 'took', 'told'}\n",
      "Do any of these actions stand out to you as important?\n",
      " If so, which ones? Pick three \n",
      "\n",
      "Does these actions have any significance to you?\n",
      "These words might describe the feeling of your dream, do any stand out?\n",
      "{'dark', 'fork', 'hill', 'didnt', 'straddle', 'able', 'final', 'concerned', 'okay', 'preferred', 'middle', 'dangerous', 'legs', 'steep', 'old', 'long', 'white', 'red', 'ride', 'top', 'half', 'ran'}\n",
      "If so, which ones? Pick three: \n",
      "I dreamt that I was floating down a river, grey with glacial silt, through a beautiful mountain valley, with some fairly uninhabited farm land around. It was fun, like recreational tubing. I was with some of my family members and I think Joe Rogan. We floated by a peaceful looking fawn foraging in the brush. shortly after, wolves ran out from the fields. We were all scared they would hurt us and they looked mean. We picked up rocks and to throw at the wolves. Fortunately, we realized the wolves wouldnt come into the water, so we were safe. However, we noticed dogs from a nearby ranch were swimming down the river to hurt us. My aunt had a baseball bat and she gave it to me and I hit and attacked the dogs.\n",
      "These people were in your dream, are they important to you in any way?\n",
      "['Joe', 'Rogan', 'aunt']\n",
      "If there were other people in your dream that were not found, enter them here: Joe Rogan, aunt\n",
      "Do any of these things stand out to you as important?\n",
      "{'water', 'river', 'dogs', 'baseball', 'wolves', 'farm', 'members', 'silt', 'aunt', 'brush', 'mountain', 'land', 'fields', 'mean', 'bat', 'rocks', 'tubing', 'family', 'fawn'}\n",
      "If so, which ones? Pick three: \n",
      "wolves, river, farm, fawn, baseball bat, family\n",
      "What do these things mean to you?\n",
      "{'picked', 'hurt', 'foraging', 'scared', 'hit', 'realized', 'valley', 'floating', 'wouldnt', 'looking', 'think', 'gave', 'swimming', 'grey', 'floated', 'throw'}\n",
      "Do any of these actions stand out to you as important?\n",
      " If so, which ones? Pick three \n",
      "swimming, foraging, hitting, throwing\n",
      "Does these actions have any significance to you?\n",
      "These words might describe the feeling of your dream, do any stand out?\n",
      "{'come', 'noticed', 'recreational', 'glacial', 'safe', 'ranch', 'looked', 'peaceful', 'attacked', 'beautiful', 'uninhabited', 'ran'}\n",
      "If so, which ones? Pick three: safe, peaceful, beautiful, uninhibited, scared\n",
      "My cousins, who are already married in real life, were getting married in a western, rustic barn. Everything felt grey and brown. My aunt asked me to write and read a poem about my cousins' love and marriage. Apparently I obliged and done so previously, but I wrote it on a birch catkin, not paper. I lost the birch catkin and embarrassingly had to search for it on the floor when I was called to read. Eventually I found it, trampled and worn. While I cannot remember seeing any words written on it, I was able to read the poem. It was terrible and choppy and I was embarrased of its poor quality. Part way through, the wedding continued before I was done and everyone ignored me. My mom and grandmother got up and did a silly dance next and everyone loved it. I felt embarrassed.\n",
      "These people were in your dream, are they important to you in any way?\n",
      "['aunt', 'mom', 'grandmother']\n",
      "If there were other people in your dream that were not found, enter them here: \n",
      "Do any of these things stand out to you as important?\n",
      "{'mom', 'birch', 'paper', 'everyone', 'barn', 'grandmother', 'aunt', 'way', 'life', 'cousins', 'poem', 'catkin', 'words', 'floor', 'marriage'}\n",
      "If so, which ones? Pick three: \n",
      "birch, paper, barn, catkin, poem, marriage\n",
      "What do these things mean to you?\n",
      "{'done', 'wedding', 'embarrased', 'got', 'loved', 'found', 'trampled', 'getting', 'obliged', 'love', 'continued', 'called', 'written', 'seeing', 'married', 'ignored', 'felt', 'asked', 'wrote', 'lost'}\n",
      "Do any of these actions stand out to you as important?\n",
      " If so, which ones? Pick three \n",
      "wedding, embarrassed, trampled, obliged, writing, ignored\n",
      "Does these actions have any significance to you?\n",
      "These words might describe the feeling of your dream, do any stand out?\n",
      "{'quality', 'real', 'choppy', 'next', 'able', 'poor', 'rustic', 'western', 'terrible', 'worn', 'write', 'search', 'read', 'dance', 'married', 'catkin', 'embarrassed', 'grey'}\n",
      "If so, which ones? Pick three: rustic, western, worn\n",
      "I was in the reddish brown desert of Utah or Colorado on a hill side with large rocks everywhere. It was very crowded and appeard to be a mining operation. Below, an impressive array of dynamite was set off the the explosion was orderly, loud, and exciting. Shortly after, a rock slide started. It started below me and I watched from safety. It was very large and many huge rocks fell. It looked like people were getting injured. As I noticed that, I looked up and saw the rock slide starting above me. I hid under the steep face of a small cliff and was protected. Every once in a while I would look up, only to have a massive rock fly right by my head and I would duck again. This went on for some time until someone shouted the rocks had stopped. They pointed out a road to the top of the hill and we climbed it to safety. We had to run but I was worried about a calf injury I had in real life, but it was fine. At the top, there were many people and well organized ultramarathon appeard to be happening. I was invited to join. While I hesitated due to my injury and the frightening situation, not knowing if it was safe or not, I joined for the down hill portion. It was great fun. There was a river crossing at the bottom over loose logs. At one point in the middle, there was a log that would only support 2 people but I was with hannah and sadie. I volunteered to have them cross safely and I would swim. I swam until the next log where I climbed to safety with great difficulty.\n",
      "These people were in your dream, are they important to you in any way?\n",
      "['Utah', 'Colorado']\n",
      "If there were other people in your dream that were not found, enter them here: \n",
      "Do any of these things stand out to you as important?\n",
      "{'safety', 'hill', 'people', 'cliff', 'life', 'fun', 'rocks', 'someone', 'head', 'fine', 'time', 'crossing', 'bottom', 'explosion', 'injury', 'array', 'river', 'desert', 'face', 'join', 'cross', 'situation', 'difficulty', 'portion', 'dynamite', 'fly', 'operation', 'road', 'slide', 'log', 'point', 'top', 'rock', 'logs'}\n"
     ]
    },
    {
     "name": "stdout",
     "output_type": "stream",
     "text": [
      "If so, which ones? Pick three: \n",
      "hill, cliff, desert, rocks, dynamite, slide, river\n",
      "What do these things mean to you?\n",
      "{'crowded', 'shouted', 'fell', 'worried', 'volunteered', 'looked', 'stopped', 'frightening', 'hesitated', 'reddish', 'protected', 'hid', 'getting', 'watched', 'climbed', 'knowing', 'invited', 'starting', 'hannah', 'went', 'happening', 'joined', 'set', 'started', 'noticed', 'mining', 'swam', 'pointed', 'run', 'exciting', 'organized'}\n",
      "Do any of these actions stand out to you as important?\n",
      " If so, which ones? Pick three \n",
      "explosion, protected, climbed, ran, crowded, hidden\n",
      "Does these actions have any significance to you?\n",
      "These words might describe the feeling of your dream, do any stand out?\n",
      "{'real', 'next', 'impressive', 'saw', 'safe', 'huge', 'many', 'brown', 'calf', 'middle', 'steep', 'sadie', 'massive', 'injured', 'due', 'small', 'great', 'orderly', 'loose', 'loud', 'top', 'large', 'ultramarathon'}\n",
      "If so, which ones? Pick three: impressive, huge, red, loud, injured\n"
     ]
    }
   ],
   "source": [
    "import glob\n",
    "dream_paths = glob.glob('dreams/*')\n",
    "\n",
    "list_of_dream_dicts = []\n",
    "for dream in dream_paths:\n",
    "    dream_dict = initiate_dream_dict(dream)\n",
    "    print(dream_dict['dream_original'])\n",
    "    dream_dict = process(dream_dict)\n",
    "    dream_dict = find_people(dream_dict)\n",
    "    dream_dict = find_nouns(dream_dict)\n",
    "    dream_dict = find_verbs(dream_dict)\n",
    "    dream_dict = find_adjectives(dream_dict)\n",
    "    list_of_dream_dicts.append(dream_dict)\n",
    "    "
   ]
  },
  {
   "cell_type": "markdown",
   "metadata": {},
   "source": [
    "# Find most similar dream to new dream in corpus\n",
    "- This works well. I entered a sanity check dream that should obviously fit into dream [1], and it does!"
   ]
  },
  {
   "cell_type": "code",
   "execution_count": 70,
   "metadata": {
    "scrolled": true
   },
   "outputs": [
    {
     "name": "stdout",
     "output_type": "stream",
     "text": [
      "Most similar dream in the corpus is: \n",
      "\n"
     ]
    },
    {
     "data": {
      "text/plain": [
       "'I dreamt that I was floating down a river, grey with glacial silt, through a beautiful mountain valley, with some fairly uninhabited farm land around. It was fun, like recreational tubing. I was with some of my family members and I think Joe Rogan. We floated by a peaceful looking fawn foraging in the brush. shortly after, wolves ran out from the fields. We were all scared they would hurt us and they looked mean. We picked up rocks and to throw at the wolves. Fortunately, we realized the wolves wouldnt come into the water, so we were safe. However, we noticed dogs from a nearby ranch were swimming down the river to hurt us. My aunt had a baseball bat and she gave it to me and I hit and attacked the dogs.'"
      ]
     },
     "execution_count": 70,
     "metadata": {},
     "output_type": "execute_result"
    }
   ],
   "source": [
    "def create_tfidf(corpus):\n",
    "\n",
    "    # create corpus of dreams\n",
    "    raw_text_list = []\n",
    "    cleaned_text_list = []\n",
    "    for dictionary in corpus:\n",
    "        \n",
    "        raw = dictionary['dream_original']\n",
    "        raw_text_list.append(raw)\n",
    "        d = dictionary['dream_cleaned_as_df']\n",
    "        text = d.stemmed_words.to_list()\n",
    "        text = ' '.join(text)\n",
    "        cleaned_text_list.append(text)\n",
    "\n",
    "    vectorizer = TfidfVectorizer()\n",
    "    docs_tfidf = vectorizer.fit_transform(cleaned_text_list)\n",
    "\n",
    "    return vectorizer, docs_tfidf, raw_text_list\n",
    "    \n",
    "vectorizer, docs_tfidf, raw_text_list = create_tfidf(list_of_dream_dicts)\n",
    "\n",
    "def get_tf_idf_query_similarity(vectorizer, docs_tfidf, query):\n",
    "    \"\"\"\n",
    "    vectorizer: TfIdfVectorizer model\n",
    "    docs_tfidf: tfidf vectors for all docs\n",
    "    query: query doc\n",
    "\n",
    "    return: cosine similarity between query and all docs\n",
    "    \"\"\"\n",
    "    def process(query):\n",
    "\n",
    "        dream = query\n",
    "        clean_dream = remove_stopwords(preprocess_text(dream))\n",
    "        df = get_entities(clean_dream)\n",
    "        df['stemmed_words'] = df.apply(stem_words, axis=1)\n",
    "        cleaned_query = df['stemmed_words'].to_list()\n",
    "        cleaned_query = ([' '.join(cleaned_query)])\n",
    "\n",
    "        return cleaned_query\n",
    "    \n",
    "    cleaned_query = process(query)\n",
    "    query_tfidf = vectorizer.transform(cleaned_query)\n",
    "    cosineSimilarities = cosine_similarity(query_tfidf, docs_tfidf).flatten()\n",
    "    \n",
    "    top_prediction = int(np.where(cosineSimilarities == np.amax(cosineSimilarities))[0])\n",
    "    most_similar_dream = raw_text_list[top_prediction]\n",
    "    print('Most similar dream in the corpus is: \\n')\n",
    "    \n",
    "    return most_similar_dream\n",
    "\n",
    "get_tf_idf_query_similarity(vectorizer, docs_tfidf, 'i was floating down a river and some wolves')"
   ]
  },
  {
   "cell_type": "code",
   "execution_count": 72,
   "metadata": {},
   "outputs": [
    {
     "data": {
      "text/plain": [
       "[{'date': '2020-07-01',\n",
       "  'dream_original': \"I was running away from something that I do not remember, only knowing that I was in danger. I was hitch hiking and got a ride from a man in an old truck. We drove for a long time until we got to a fork in the road. I asked him if this is where the chimera zone was, pointing to the steep hill of a road straight through the intersection. He said yes and with fear, told me that I shouldnt go in there because it was very dangerous. No one who went in came out he said. I knew this and was okay with it, for it was preferred over being caught by the group chasing me. I got out and ran across the road and climbed the hill to get in. It didn't look steep, but the road was so steep that I had to climb by grabbing the pushes as handholds on the side. When I climbed to the top, the road was so steep and the decline on the other side was so steep that I was able to straddle the top. I sat at the top with legs over both sides, took a final look at he concerned man who helped me, and then swung my legs over into the dark, heavily vegetated chimera zone. It was like a rainforest and I saw a flower that was half white and half red, with the colors splitting perfectly down the middle.\",\n",
       "  'dream_cleaned_as_df':           word  pos entity stemmed_words\n",
       "  0            I  PRP      O             i\n",
       "  1      running  VBG      O           run\n",
       "  2         away   RB      O          away\n",
       "  3    something   NN      O        someth\n",
       "  4            I  PRP      O             i\n",
       "  ..         ...  ...    ...           ...\n",
       "  115        red   JJ      O           red\n",
       "  116     colors  NNS      O         color\n",
       "  117  splitting  VBG      O         split\n",
       "  118  perfectly   RB      O       perfect\n",
       "  119     middle   JJ      O         middl\n",
       "  \n",
       "  [120 rows x 4 columns],\n",
       "  'important_people': [],\n",
       "  'important_nouns': [''],\n",
       "  'important_verbs': [''],\n",
       "  'important_adjectives': [''],\n",
       "  'important_words': ['', '', '']},\n",
       " {'date': '2020-07-01',\n",
       "  'dream_original': 'I dreamt that I was floating down a river, grey with glacial silt, through a beautiful mountain valley, with some fairly uninhabited farm land around. It was fun, like recreational tubing. I was with some of my family members and I think Joe Rogan. We floated by a peaceful looking fawn foraging in the brush. shortly after, wolves ran out from the fields. We were all scared they would hurt us and they looked mean. We picked up rocks and to throw at the wolves. Fortunately, we realized the wolves wouldnt come into the water, so we were safe. However, we noticed dogs from a nearby ranch were swimming down the river to hurt us. My aunt had a baseball bat and she gave it to me and I hit and attacked the dogs.',\n",
       "  'dream_cleaned_as_df':         word  pos entity stemmed_words\n",
       "  0          I  PRP      O             i\n",
       "  1          I  PRP      O             i\n",
       "  2   floating  VBG      O         float\n",
       "  3      river   NN      O         river\n",
       "  4       grey  VBP      O          grey\n",
       "  ..       ...  ...    ...           ...\n",
       "  70      gave  VBD      O          gave\n",
       "  71         I  PRP      O             i\n",
       "  72       hit  VBP      O           hit\n",
       "  73  attacked   JJ      O        attack\n",
       "  74      dogs  NNS      O           dog\n",
       "  \n",
       "  [75 rows x 4 columns],\n",
       "  'important_people': ['Joe', 'Rogan', 'aunt', 'Joe Rogan, aunt'],\n",
       "  'important_nouns': ['wolves',\n",
       "   ' river',\n",
       "   ' farm',\n",
       "   ' fawn',\n",
       "   ' baseball bat',\n",
       "   ' family'],\n",
       "  'important_verbs': ['swimming', ' foraging', ' hitting', ' throwing'],\n",
       "  'important_adjectives': ['safe',\n",
       "   ' peaceful',\n",
       "   ' beautiful',\n",
       "   ' uninhibited',\n",
       "   ' scared']},\n",
       " {'date': '2020-07-01',\n",
       "  'dream_original': \"My cousins, who are already married in real life, were getting married in a western, rustic barn. Everything felt grey and brown. My aunt asked me to write and read a poem about my cousins' love and marriage. Apparently I obliged and done so previously, but I wrote it on a birch catkin, not paper. I lost the birch catkin and embarrassingly had to search for it on the floor when I was called to read. Eventually I found it, trampled and worn. While I cannot remember seeing any words written on it, I was able to read the poem. It was terrible and choppy and I was embarrased of its poor quality. Part way through, the wedding continued before I was done and everyone ignored me. My mom and grandmother got up and did a silly dance next and everyone loved it. I felt embarrassed.\",\n",
       "  'dream_cleaned_as_df':            word   pos entity stemmed_words\n",
       "  0            My  PRP$      O            my\n",
       "  1       cousins   NNS      O        cousin\n",
       "  2       already    RB      O       alreadi\n",
       "  3       married   VBN      O         marri\n",
       "  4          real    JJ      O          real\n",
       "  ..          ...   ...    ...           ...\n",
       "  83     everyone    NN      O       everyon\n",
       "  84        loved   VBD      O          love\n",
       "  85            I   PRP      O             i\n",
       "  86         felt   VBD      O          felt\n",
       "  87  embarrassed    JJ      O     embarrass\n",
       "  \n",
       "  [88 rows x 4 columns],\n",
       "  'important_people': ['aunt', 'mom', 'grandmother'],\n",
       "  'important_nouns': ['birch',\n",
       "   ' paper',\n",
       "   ' barn',\n",
       "   ' catkin',\n",
       "   ' poem',\n",
       "   ' marriage'],\n",
       "  'important_verbs': ['wedding',\n",
       "   ' embarrassed',\n",
       "   ' trampled',\n",
       "   ' obliged',\n",
       "   ' writing',\n",
       "   ' ignored'],\n",
       "  'important_adjectives': ['rustic', ' western', ' worn']},\n",
       " {'date': '2020-07-01',\n",
       "  'dream_original': 'I was in the reddish brown desert of Utah or Colorado on a hill side with large rocks everywhere. It was very crowded and appeard to be a mining operation. Below, an impressive array of dynamite was set off the the explosion was orderly, loud, and exciting. Shortly after, a rock slide started. It started below me and I watched from safety. It was very large and many huge rocks fell. It looked like people were getting injured. As I noticed that, I looked up and saw the rock slide starting above me. I hid under the steep face of a small cliff and was protected. Every once in a while I would look up, only to have a massive rock fly right by my head and I would duck again. This went on for some time until someone shouted the rocks had stopped. They pointed out a road to the top of the hill and we climbed it to safety. We had to run but I was worried about a calf injury I had in real life, but it was fine. At the top, there were many people and well organized ultramarathon appeard to be happening. I was invited to join. While I hesitated due to my injury and the frightening situation, not knowing if it was safe or not, I joined for the down hill portion. It was great fun. There was a river crossing at the bottom over loose logs. At one point in the middle, there was a log that would only support 2 people but I was with hannah and sadie. I volunteered to have them cross safely and I would swim. I swam until the next log where I climbed to safety with great difficulty.',\n",
       "  'dream_cleaned_as_df':            word  pos    entity stemmed_words\n",
       "  0             I  PRP         O             i\n",
       "  1       reddish  VBP         O       reddish\n",
       "  2         brown   JJ         O         brown\n",
       "  3        desert   NN         O        desert\n",
       "  4          Utah  NNP  B-PERSON          utah\n",
       "  ..          ...  ...       ...           ...\n",
       "  154           I  PRP         O             i\n",
       "  155     climbed  VBD         O         climb\n",
       "  156      safety   NN         O        safeti\n",
       "  157       great   JJ         O         great\n",
       "  158  difficulty   NN         O    difficulti\n",
       "  \n",
       "  [159 rows x 4 columns],\n",
       "  'important_people': ['Utah', 'Colorado'],\n",
       "  'important_nouns': ['hill',\n",
       "   ' cliff',\n",
       "   ' desert',\n",
       "   ' rocks',\n",
       "   ' dynamite',\n",
       "   ' slide',\n",
       "   ' river'],\n",
       "  'important_verbs': ['explosion',\n",
       "   ' protected',\n",
       "   ' climbed',\n",
       "   ' ran',\n",
       "   ' crowded',\n",
       "   ' hidden'],\n",
       "  'important_adjectives': ['impressive',\n",
       "   ' huge',\n",
       "   ' red',\n",
       "   ' loud',\n",
       "   ' injured']}]"
      ]
     },
     "execution_count": 72,
     "metadata": {},
     "output_type": "execute_result"
    }
   ],
   "source": [
    "list_of_dream_dicts"
   ]
  },
  {
   "cell_type": "markdown",
   "metadata": {},
   "source": [
    "# Visualize important words per dream\n",
    "- An intuitive and cheap way (for human recall) to store dream content is in an image, like a wordcloud\n",
    "- With a quick glance, the dreamer can be reminded of their dream\n",
    "- Content of wordcloud is based on important people, things, actions and feelings that were self-reported per dream"
   ]
  },
  {
   "cell_type": "code",
   "execution_count": 75,
   "metadata": {},
   "outputs": [
    {
     "name": "stdout",
     "output_type": "stream",
     "text": [
      "['Joe', 'Rogan', 'aunt', 'Joe Rogan, aunt', 'wolves', ' river', ' farm', ' fawn', ' baseball bat', ' family', 'swimming', ' foraging', ' hitting', ' throwing', 'safe', ' peaceful', ' beautiful', ' uninhibited', ' scared']\n"
     ]
    },
    {
     "data": {
      "image/png": "[encoded data removed]",
      "text/plain": [
       "<Figure size 360x720 with 1 Axes>"
      ]
     },
     "metadata": {
      "needs_background": "light"
     },
     "output_type": "display_data"
    },
    {
     "name": "stdout",
     "output_type": "stream",
     "text": [
      "['aunt', 'mom', 'grandmother', 'birch', ' paper', ' barn', ' catkin', ' poem', ' marriage', 'wedding', ' embarrassed', ' trampled', ' obliged', ' writing', ' ignored', 'rustic', ' western', ' worn']\n"
     ]
    },
    {
     "data": {
      "image/png": "[encoded data removed]",
      "text/plain": [
       "<Figure size 360x720 with 1 Axes>"
      ]
     },
     "metadata": {
      "needs_background": "light"
     },
     "output_type": "display_data"
    },
    {
     "name": "stdout",
     "output_type": "stream",
     "text": [
      "['Utah', 'Colorado', 'hill', ' cliff', ' desert', ' rocks', ' dynamite', ' slide', ' river', 'explosion', ' protected', ' climbed', ' ran', ' crowded', ' hidden', 'impressive', ' huge', ' red', ' loud', ' injured']\n"
     ]
    },
    {
     "data": {
      "image/png": "[encoded data removed]",
      "text/plain": [
       "<Figure size 360x720 with 1 Axes>"
      ]
     },
     "metadata": {
      "needs_background": "light"
     },
     "output_type": "display_data"
    }
   ],
   "source": [
    "# not sure the best way to use these yet, but could probs do some cool stuff with important people, nouns, verbs, etc.\n",
    "for i in list_of_dream_dicts[1:]:\n",
    "#     print(i['dream_original'])\n",
    "    i = important_words(i)\n",
    "    \n",
    "    print(i['important_words'])\n",
    "    \n",
    "    text = i['important_words']\n",
    "    text = ' '.join(text)\n",
    "    text = text.replace('Joe Rogan', '')\n",
    "    # Create and generate a word cloud image:\n",
    "    wordcloud = WordCloud().generate(text)\n",
    "    # Display the generated image:\n",
    "    plt.figure(figsize=(5,10))\n",
    "    plt.imshow(wordcloud, interpolation='bilinear')\n",
    "    plt.axis(\"off\")\n",
    "    plt.show()    "
   ]
  },
  {
   "cell_type": "code",
   "execution_count": null,
   "metadata": {},
   "outputs": [],
   "source": []
  },
  {
   "cell_type": "code",
   "execution_count": null,
   "metadata": {},
   "outputs": [],
   "source": []
  },
  {
   "cell_type": "code",
   "execution_count": null,
   "metadata": {},
   "outputs": [],
   "source": []
  },
  {
   "cell_type": "code",
   "execution_count": null,
   "metadata": {},
   "outputs": [],
   "source": []
  },
  {
   "cell_type": "markdown",
   "metadata": {},
   "source": [
    "# LDA\n",
    "- LDA will be used for topic modeling. Once the database is populated with enough dreams, topics may be able to be determined.\n",
    "- With these topics, dreams can be sorted into categories and new dreams can be appropriately fit into a category.\n",
    "- This can be ignored for awhile, need sufficient dreams for it to be interesting."
   ]
  },
  {
   "cell_type": "code",
   "execution_count": 31,
   "metadata": {},
   "outputs": [],
   "source": [
    "# create corpus of dreams\n",
    "text_list = []\n",
    "for dictionary in list_of_dream_dicts:\n",
    "    d = dictionary['dream_cleaned_as_df']\n",
    "    text = d.stemmed_words.to_list()\n",
    "    text_list.append(text)"
   ]
  },
  {
   "cell_type": "code",
   "execution_count": 32,
   "metadata": {},
   "outputs": [],
   "source": [
    "# create word frequency dictionary\n",
    "dictionary = gensim.corpora.Dictionary(text_list)\n",
    "# create bag-of-words representation of corpus\n",
    "bow_corpus = [dictionary.doc2bow(doc) for doc in text_list]\n",
    "# create tf-idf model object\n",
    "tfidf = models.TfidfModel(bow_corpus)\n",
    "# transform entire corpus with tf-idf\n",
    "corpus_tfidf = tfidf[bow_corpus]\n",
    "\n",
    "# create LDA model from bow_corpus\n",
    "# determine number of topics\n",
    "num_topics = 5\n",
    "lda_model = gensim.models.LdaMulticore(bow_corpus, num_topics=num_topics, id2word=dictionary, passes=2, workers=2)"
   ]
  },
  {
   "cell_type": "code",
   "execution_count": 33,
   "metadata": {
    "scrolled": true
   },
   "outputs": [
    {
     "name": "stdout",
     "output_type": "stream",
     "text": [
      "Topic: 0 Word: 0.004*\"read\" + 0.004*\"wolv\" + 0.004*\"road\" + 0.004*\"steep\" + 0.004*\"rock\" + 0.004*\"hurt\" + 0.004*\"float\" + 0.004*\"my\" + 0.004*\"would\" + 0.004*\"dog\"\n",
      "Topic: 1 Word: 0.008*\"wolv\" + 0.007*\"steep\" + 0.007*\"road\" + 0.006*\"us\" + 0.006*\"hurt\" + 0.006*\"dog\" + 0.006*\"float\" + 0.006*\"danger\" + 0.006*\"said\" + 0.006*\"chimera\"\n",
      "Topic: 2 Word: 0.004*\"wolv\" + 0.004*\"felt\" + 0.004*\"steep\" + 0.004*\"read\" + 0.004*\"road\" + 0.004*\"rock\" + 0.004*\"float\" + 0.004*\"peopl\" + 0.004*\"got\" + 0.004*\"would\"\n",
      "Topic: 3 Word: 0.008*\"read\" + 0.007*\"everyon\" + 0.007*\"birch\" + 0.007*\"catkin\" + 0.007*\"marri\" + 0.007*\"cousin\" + 0.007*\"love\" + 0.007*\"poem\" + 0.007*\"done\" + 0.007*\"embarrass\"\n",
      "Topic: 4 Word: 0.007*\"rock\" + 0.007*\"safeti\" + 0.007*\"start\" + 0.007*\"log\" + 0.007*\"peopl\" + 0.006*\"would\" + 0.006*\"at\" + 0.006*\"join\" + 0.006*\"slide\" + 0.006*\"mani\"\n"
     ]
    }
   ],
   "source": [
    "# print LDA topics found in corpus\n",
    "lda_model_tfidf = gensim.models.LdaMulticore(corpus_tfidf, num_topics=5, id2word=dictionary, passes=2, workers=4)\n",
    "for idx, topic in lda_model_tfidf.print_topics(-1):\n",
    "    print('Topic: {} Word: {}'.format(idx, topic))"
   ]
  },
  {
   "cell_type": "markdown",
   "metadata": {},
   "source": [
    "# Predict the topic of a new dream\n",
    "### Process dream"
   ]
  },
  {
   "cell_type": "code",
   "execution_count": 34,
   "metadata": {
    "scrolled": false
   },
   "outputs": [
    {
     "name": "stdout",
     "output_type": "stream",
     "text": [
      "I was in my home city and right by the water when tidal waves started crashing over the streets. I climbed to the top of a tree and held on as tight as I could but the waves continued crashing and I saw many people swalled up in the current. When there was a break in the waves, I jumped down and swam to shore, where I climbed up a bridge and ran away. Once I was safe, my vantage point zoomed out to space where I saw one big wave crash over the whole pacific coast and to my surprise, went over the cascades, across the rockies, great plains, appalachians, and eventually into the atlantic ocean. The whole country was submerged in water.\n",
      "If there were people in your dream that were not found, enter them here: \n",
      "Do any of these things stand out to you as important?\n",
      "{'vantage', 'bridge', 'point', 'appalachians', 'surprise', 'streets', 'tree', 'water', 'coast', 'people', 'shore', 'plains', 'crash', 'break', 'space', 'rockies', 'swam', 'pacific', 'city', 'waves', 'cascades', 'wave', 'country'}\n",
      "If so, which ones? Pick three: \n",
      "\n",
      "What do these things mean to you?\n",
      "{'zoomed', 'climbed', 'continued', 'swalled', 'ran', 'home', 'crashing', 'started', 'jumped', 'saw', 'went', 'held', 'submerged'}\n",
      "Do any of these actions stand out to you as important?\n",
      " If so, which ones? Pick three \n",
      "\n",
      "Does these actions have any significance to you?\n",
      "These words might describe the feeling of your dream, do any stand out?\n",
      "{'big', 'right', 'safe', 'whole', 'tidal', 'top', 'great', 'many', 'current', 'tight', 'atlantic'}\n",
      "If so, which ones? Pick three: \n"
     ]
    }
   ],
   "source": [
    "def initiate_dream_dict_direct(dream):\n",
    "    \n",
    "    date = datetime.today().strftime('%Y-%m-%d')\n",
    "    dream_dict = {}\n",
    "    dream_dict['date'] = date\n",
    "    dream_dict['dream_original'] = dream\n",
    "    \n",
    "    return dream_dict\n",
    "\n",
    "new_dream = 'I was in my home city and right by the water when tidal waves started crashing over the streets. I climbed to the top of a tree and held on as tight as I could but the waves continued crashing and I saw many people swalled up in the current. When there was a break in the waves, I jumped down and swam to shore, where I climbed up a bridge and ran away. Once I was safe, my vantage point zoomed out to space where I saw one big wave crash over the whole pacific coast and to my surprise, went over the cascades, across the rockies, great plains, appalachians, and eventually into the atlantic ocean. The whole country was submerged in water.'\n",
    "new_dream_dict = initiate_dream_dict_direct(new_dream)\n",
    "print(new_dream_dict['dream_original'])\n",
    "new_dream_dict = process(new_dream_dict)\n",
    "new_dream_dict = find_people(new_dream_dict)\n",
    "new_dream_dict = find_nouns(new_dream_dict)\n",
    "new_dream_dict = find_verbs(new_dream_dict)\n",
    "new_dream_dict = find_adjectives(new_dream_dict)\n",
    "new_processed_dream = new_dream_dict['dream_cleaned_as_df']"
   ]
  },
  {
   "cell_type": "markdown",
   "metadata": {},
   "source": [
    "### Predict dream topic in LDA model\n",
    "- This will be useless until more dreams are gathered"
   ]
  },
  {
   "cell_type": "code",
   "execution_count": 35,
   "metadata": {
    "scrolled": true
   },
   "outputs": [
    {
     "name": "stdout",
     "output_type": "stream",
     "text": [
      "Score: 0.8379603624343872\t Topic: 0.008*\"wolv\" + 0.007*\"steep\" + 0.007*\"road\" + 0.006*\"us\" + 0.006*\"hurt\"\n",
      "Score: 0.04089013487100601\t Topic: 0.008*\"read\" + 0.007*\"everyon\" + 0.007*\"birch\" + 0.007*\"catkin\" + 0.007*\"marri\"\n",
      "Score: 0.04040268436074257\t Topic: 0.004*\"wolv\" + 0.004*\"felt\" + 0.004*\"steep\" + 0.004*\"read\" + 0.004*\"road\"\n",
      "Score: 0.040402647107839584\t Topic: 0.004*\"read\" + 0.004*\"wolv\" + 0.004*\"road\" + 0.004*\"steep\" + 0.004*\"rock\"\n",
      "Score: 0.04034410044550896\t Topic: 0.007*\"rock\" + 0.007*\"safeti\" + 0.007*\"start\" + 0.007*\"log\" + 0.007*\"peopl\"\n"
     ]
    }
   ],
   "source": [
    "# feed preprocessed dream into LDA model\n",
    "new_dictionary = gensim.corpora.Dictionary([new_processed_dream])\n",
    "new_bow_vector = new_dictionary.doc2bow(new_processed_dream)\n",
    "for index, score in sorted(lda_model_tfidf[new_bow_vector], key=lambda tup: -1*tup[1]):\n",
    "    print(\"Score: {}\\t Topic: {}\".format(score, lda_model_tfidf.print_topic(index, 5)))"
   ]
  },
  {
   "cell_type": "code",
   "execution_count": null,
   "metadata": {},
   "outputs": [],
   "source": []
  },
  {
   "cell_type": "code",
   "execution_count": null,
   "metadata": {},
   "outputs": [],
   "source": []
  },
  {
   "cell_type": "code",
   "execution_count": null,
   "metadata": {},
   "outputs": [],
   "source": []
  },
  {
   "cell_type": "code",
   "execution_count": null,
   "metadata": {},
   "outputs": [],
   "source": []
  },
  {
   "cell_type": "markdown",
   "metadata": {},
   "source": [
    "### Playing with charts..."
   ]
  },
  {
   "cell_type": "code",
   "execution_count": 140,
   "metadata": {},
   "outputs": [
    {
     "data": {
      "text/plain": [
       "0.5068493150684932"
      ]
     },
     "execution_count": 140,
     "metadata": {},
     "output_type": "execute_result"
    }
   ],
   "source": [
    "rand = [22, 10, 13, 21, 4, 16, 21, 28, 13, 5, 11, 21]\n",
    "d = pd.DataFrame(rand)\n",
    "rate = sum(rand)/365\n",
    "rate"
   ]
  },
  {
   "cell_type": "code",
   "execution_count": 121,
   "metadata": {
    "scrolled": true
   },
   "outputs": [
    {
     "data": {
      "image/png": "[encoded data removed]",
      "text/plain": [
       "<Figure size 432x288 with 1 Axes>"
      ]
     },
     "metadata": {},
     "output_type": "display_data"
    },
    {
     "data": {
      "text/plain": [
       "<Figure size 2880x2880 with 0 Axes>"
      ]
     },
     "metadata": {},
     "output_type": "display_data"
    }
   ],
   "source": [
    "import pandas as pd\n",
    "import numpy as np\n",
    "import matplotlib.pyplot as plt\n",
    "import matplotlib.ticker as ticker\n",
    "import datetime\n",
    "\n",
    "plt.style.use('dark_background')\n",
    "\n",
    "\n",
    "# dummy data (Days)\n",
    "dates_d = pd.date_range('2010-01-01', '2010-12-31', freq='D')\n",
    "df_year = pd.DataFrame(np.random.randint(1, 2, (dates_d.shape[0], 1)), columns=['Data'])\n",
    "df_year.index = dates_d #set index\n",
    "\n",
    "# pt = pd.pivot_table(df_year, index=df_year.index.month, columns=df_year.index.year, aggfunc='sum')\n",
    "# pt.columns = pt.columns.droplevel() # remove the double header (0) as pivot creates a multiindex.\n",
    "\n",
    "ax = plt.figure().add_subplot(111)\n",
    "\n",
    "ax.plot(d, color='w')\n",
    "\n",
    "ticklabels = [datetime.date(1900, item, 1).strftime('%b') for item in pt.index]\n",
    "ax.set_xticks(np.arange(0,12))\n",
    "ax.set_xticklabels(ticklabels) #add monthlabels to the xaxis\n",
    "ax.set_yticks(np.arange(0,31, 5))\n",
    "\n",
    "# ax.legend(pt.columns.tolist(), loc='center left', bbox_to_anchor=(1, .5)) #add the column names as legend.\n",
    "\n",
    "plt.figure(figsize=(40,40))\n",
    "plt.tight_layout(rect=[0, 0, 0.85, 1])\n",
    "\n",
    "plt.show();"
   ]
  },
  {
   "cell_type": "code",
   "execution_count": 143,
   "metadata": {},
   "outputs": [
    {
     "data": {
      "text/plain": [
       "0.6"
      ]
     },
     "execution_count": 143,
     "metadata": {},
     "output_type": "execute_result"
    }
   ],
   "source": [
    "rand = [1, 0, 1, 0, 0, 0, 1, 0, 1, 1,1, 0, 1, 0, 0, 0, 1, 0, 1, 1,1, 0, 1, 0, 0, 0, 1, 0, 1, 1]\n",
    "\n",
    "rand = [7, 2, 5, 4]\n",
    "d = pd.DataFrame(rand)\n",
    "rate = sum(rand)/30\n",
    "rate"
   ]
  },
  {
   "cell_type": "code",
   "execution_count": 131,
   "metadata": {
    "scrolled": true
   },
   "outputs": [
    {
     "data": {
      "image/png": "[encoded data removed]",
      "text/plain": [
       "<Figure size 432x288 with 1 Axes>"
      ]
     },
     "metadata": {},
     "output_type": "display_data"
    },
    {
     "data": {
      "text/plain": [
       "<Figure size 2880x2880 with 0 Axes>"
      ]
     },
     "metadata": {},
     "output_type": "display_data"
    }
   ],
   "source": [
    "plt.style.use('dark_background')\n",
    "\n",
    "\n",
    "# dummy data (Days)\n",
    "dates_d = pd.date_range('2010-01-01', '2010-01-31', freq='D')\n",
    "df_year = pd.DataFrame(np.random.randint(1, 2, (dates_d.shape[0], 1)), columns=['Data'])\n",
    "df_year.index = dates_d #set index\n",
    "\n",
    "# pt = pd.pivot_table(df_year, index=df_year.index.month, columns=df_year.index.year, aggfunc='sum')\n",
    "# pt.columns = pt.columns.droplevel() # remove the double header (0) as pivot creates a multiindex.\n",
    "\n",
    "ax = plt.figure().add_subplot(111)\n",
    "\n",
    "ax.plot(d, color='w')\n",
    "\n",
    "ticklabels = [datetime.date(1900, item, 1).strftime('%b') for item in pt.index]\n",
    "ax.set_xticks(np.arange(0,4))\n",
    "ax.set_xticklabels(['week1', 'week2', 'week3', 'week4']) #add monthlabels to the xaxis\n",
    "ax.set_yticks(np.arange(0,11))\n",
    "\n",
    "\n",
    "# ax.legend(pt.columns.tolist(), loc='center left', bbox_to_anchor=(1, .5)) #add the column names as legend.\n",
    "\n",
    "plt.figure(figsize=(40,40))\n",
    "plt.tight_layout(rect=[0, 0, 0.85, 1])\n",
    "\n",
    "plt.show();"
   ]
  },
  {
   "cell_type": "code",
   "execution_count": 144,
   "metadata": {},
   "outputs": [
    {
     "data": {
      "text/plain": [
       "0.5714285714285714"
      ]
     },
     "execution_count": 144,
     "metadata": {},
     "output_type": "execute_result"
    }
   ],
   "source": [
    "rand = [0, 1, 1, 1, 0, 0, 1]\n",
    "d = pd.DataFrame(rand)\n",
    "rate = sum(rand)/7\n",
    "rate"
   ]
  },
  {
   "cell_type": "code",
   "execution_count": 138,
   "metadata": {},
   "outputs": [
    {
     "data": {
      "image/png": "[encoded data removed]",
      "text/plain": [
       "<Figure size 432x288 with 1 Axes>"
      ]
     },
     "metadata": {},
     "output_type": "display_data"
    },
    {
     "data": {
      "text/plain": [
       "<Figure size 2880x2880 with 0 Axes>"
      ]
     },
     "metadata": {},
     "output_type": "display_data"
    }
   ],
   "source": [
    "plt.style.use('dark_background')\n",
    "\n",
    "\n",
    "# dummy data (Days)\n",
    "dates_d = pd.date_range('2010-01-01', '2010-01-31', freq='D')\n",
    "df_year = pd.DataFrame(np.random.randint(1, 2, (dates_d.shape[0], 1)), columns=['Data'])\n",
    "df_year.index = dates_d #set index\n",
    "\n",
    "# pt = pd.pivot_table(df_year, index=df_year.index.month, columns=df_year.index.year, aggfunc='sum')\n",
    "# pt.columns = pt.columns.droplevel() # remove the double header (0) as pivot creates a multiindex.\n",
    "\n",
    "ax = plt.figure().add_subplot(111)\n",
    "\n",
    "ax.plot(d, color='w')\n",
    "\n",
    "ticklabels = [datetime.date(1900, item, 1).strftime('%b') for item in pt.index]\n",
    "ax.set_xticks(np.arange(0,7),)\n",
    "ax.set_xticklabels(['Monday', 'Tuesday', 'Wednesday', 'Thursday', 'Friday', 'Saturday', 'Sunday']) #add monthlabels to the xaxis\n",
    "ax.set_yticks(np.arange(0,2))\n",
    "ax.set_yticklabels(['no dream', 'dream'])\n",
    "\n",
    "# ax.legend(pt.columns.tolist(), loc='center left', bbox_to_anchor=(1, .5)) #add the column names as legend.\n",
    "plt.xticks(rotation=70)\n",
    "plt.figure(figsize=(40,40))\n",
    "plt.tight_layout(rect=[0, 0, 0.85, 1])\n",
    "\n",
    "plt.show();"
   ]
  },
  {
   "cell_type": "code",
   "execution_count": 155,
   "metadata": {},
   "outputs": [
    {
     "name": "stdout",
     "output_type": "stream",
     "text": [
      "explained variance ratio (first two components): [0.92461872 0.05306648]\n"
     ]
    },
    {
     "data": {
      "image/png": "[encoded data removed]",
      "text/plain": [
       "<Figure size 432x288 with 1 Axes>"
      ]
     },
     "metadata": {},
     "output_type": "display_data"
    }
   ],
   "source": [
    "from sklearn import datasets\n",
    "from sklearn.decomposition import PCA\n",
    "from sklearn.discriminant_analysis import LinearDiscriminantAnalysis\n",
    "\n",
    "iris = datasets.load_iris()\n",
    "\n",
    "X = iris.data\n",
    "y = iris.target\n",
    "target_names = iris.target_names\n",
    "\n",
    "pca = PCA(n_components=2)\n",
    "X_r = pca.fit(X).transform(X)\n",
    "\n",
    "\n",
    "# Percentage of variance explained for each components\n",
    "print('explained variance ratio (first two components): %s'\n",
    "      % str(pca.explained_variance_ratio_))\n",
    "\n",
    "plt.figure()\n",
    "colors = ['navy', 'turquoise', 'darkorange']\n",
    "lw = 2\n",
    "\n",
    "for color, i, target_name in zip(colors, [0, 1, 2], target_names):\n",
    "    plt.scatter(X_r[y == i, 0], X_r[y == i, 1], color=color, alpha=.8, lw=lw,\n",
    "                label=target_name)\n",
    "\n",
    "\n",
    "\n",
    "\n",
    "plt.show()\n"
   ]
  },
  {
   "cell_type": "code",
   "execution_count": null,
   "metadata": {},
   "outputs": [],
   "source": []
  }
 ],
 "metadata": {
  "kernelspec": {
   "display_name": "Python 3",
   "language": "python",
   "name": "python3"
  },
  "language_info": {
   "codemirror_mode": {
    "name": "ipython",
    "version": 3
   },
   "file_extension": ".py",
   "mimetype": "text/x-python",
   "name": "python",
   "nbconvert_exporter": "python",
   "pygments_lexer": "ipython3",
   "version": "3.6.10"
  }
 },
 "nbformat": 4,
 "nbformat_minor": 4
}
